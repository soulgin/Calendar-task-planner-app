{
 "cells": [
  {
   "cell_type": "code",
   "execution_count": 2,
   "id": "51c945f5-3c51-4513-90d1-6a892489b816",
   "metadata": {},
   "outputs": [],
   "source": [
    "!django-admin startproject calendar_task_manager\n"
   ]
  },
  {
   "cell_type": "code",
   "execution_count": 2,
   "id": "c463561c-8761-45a8-916b-923bed5e3800",
   "metadata": {},
   "outputs": [],
   "source": [
    "!python manage.py startapp tasks\n"
   ]
  },
  {
   "cell_type": "code",
   "execution_count": 3,
   "id": "4c26c1ac-4966-4659-b356-8367fe8dc64c",
   "metadata": {},
   "outputs": [
    {
     "name": "stdout",
     "output_type": "stream",
     "text": [
      "C:\\Users\\Shin\\Desktop\\New folder (7)\\calendar_task_manager\n"
     ]
    },
    {
     "name": "stderr",
     "output_type": "stream",
     "text": [
      "C:\\Users\\Shin\\AppData\\Local\\Programs\\Python\\Python312\\Lib\\site-packages\\IPython\\core\\magics\\osm.py:417: UserWarning: This is now an optional IPython functionality, setting dhist requires you to install the `pickleshare` library.\n",
      "  self.shell.db['dhist'] = compress_dhist(dhist)[-100:]\n"
     ]
    }
   ],
   "source": [
    "cd calendar_task_manager\n"
   ]
  },
  {
   "cell_type": "code",
   "execution_count": 1,
   "id": "7ca333c3-5baa-4e0b-b98e-fc96678901dc",
   "metadata": {},
   "outputs": [
    {
     "name": "stdout",
     "output_type": "stream",
     "text": [
      "Migrations for 'tasks':\n",
      "  tasks\\migrations\\0001_initial.py\n",
      "    + Create model Month\n",
      "    + Create model Task\n"
     ]
    }
   ],
   "source": [
    "!python manage.py makemigrations\n"
   ]
  },
  {
   "cell_type": "code",
   "execution_count": 3,
   "id": "a6c68d2b-4108-4720-ab7f-d6ef888fe507",
   "metadata": {},
   "outputs": [
    {
     "name": "stdout",
     "output_type": "stream",
     "text": [
      "Operations to perform:\n",
      "  Apply all migrations: admin, auth, contenttypes, sessions, tasks\n",
      "Running migrations:\n",
      "  Applying contenttypes.0001_initial... OK\n",
      "  Applying auth.0001_initial... OK\n",
      "  Applying admin.0001_initial... OK\n",
      "  Applying admin.0002_logentry_remove_auto_add... OK\n",
      "  Applying admin.0003_logentry_add_action_flag_choices... OK\n",
      "  Applying contenttypes.0002_remove_content_type_name... OK\n",
      "  Applying auth.0002_alter_permission_name_max_length... OK\n",
      "  Applying auth.0003_alter_user_email_max_length... OK\n",
      "  Applying auth.0004_alter_user_username_opts... OK\n",
      "  Applying auth.0005_alter_user_last_login_null... OK\n",
      "  Applying auth.0006_require_contenttypes_0002... OK\n",
      "  Applying auth.0007_alter_validators_add_error_messages... OK\n",
      "  Applying auth.0008_alter_user_username_max_length... OK\n",
      "  Applying auth.0009_alter_user_last_name_max_length... OK\n",
      "  Applying auth.0010_alter_group_name_max_length... OK\n",
      "  Applying auth.0011_update_proxy_permissions... OK\n",
      "  Applying auth.0012_alter_user_first_name_max_length... OK\n",
      "  Applying sessions.0001_initial... OK\n",
      "  Applying tasks.0001_initial... OK\n"
     ]
    }
   ],
   "source": [
    "!python manage.py migrate\n"
   ]
  },
  {
   "cell_type": "code",
   "execution_count": 7,
   "id": "10461676-5f7f-43da-8ede-e51316465aed",
   "metadata": {},
   "outputs": [
    {
     "ename": "SyntaxError",
     "evalue": "invalid syntax (503259039.py, line 2)",
     "output_type": "error",
     "traceback": [
      "\u001b[1;36m  Cell \u001b[1;32mIn[7], line 2\u001b[1;36m\u001b[0m\n\u001b[1;33m    Django==4.1.5\u001b[0m\n\u001b[1;37m               ^\u001b[0m\n\u001b[1;31mSyntaxError\u001b[0m\u001b[1;31m:\u001b[0m invalid syntax\n"
     ]
    }
   ],
   "source": [
    "!pip freeze > requirements.txt\n"
   ]
  },
  {
   "cell_type": "code",
   "execution_count": 9,
   "id": "e23258d0-56cd-44f5-be96-7629ac86cb54",
   "metadata": {},
   "outputs": [
    {
     "name": "stderr",
     "output_type": "stream",
     "text": [
      "'Django' is not recognized as an internal or external command,\n",
      "operable program or batch file.\n"
     ]
    }
   ],
   "source": []
  },
  {
   "cell_type": "code",
   "execution_count": null,
   "id": "17eab27e-c3bc-47bc-9cc3-e2ee94c4b076",
   "metadata": {},
   "outputs": [],
   "source": [
    "!python manage.py shell\n"
   ]
  },
  {
   "cell_type": "code",
   "execution_count": null,
   "id": "734644f8-4778-4599-a6ae-b3260d07a257",
   "metadata": {},
   "outputs": [],
   "source": [
    "from tasks.models import Month, Task\n",
    "\n",
    "# Create a month\n",
    "month = Month.objects.create(year=2024, month=12, num_days=31, start_day=5)\n",
    "\n",
    "# Create tasks for that month\n",
    "Task.objects.create(month=month, day=1, description=\"Task for December 1\")\n",
    "Task.objects.create(month=month, day=5, description=\"Task for December 5\")\n"
   ]
  },
  {
   "cell_type": "code",
   "execution_count": null,
   "id": "df770bbd-6377-4195-a5a2-e118cc51475b",
   "metadata": {},
   "outputs": [],
   "source": [
    "!python manage.py runserver\n",
    "\n"
   ]
  },
  {
   "cell_type": "code",
   "execution_count": null,
   "id": "106fd7c2-25c2-4d42-a063-2d1225942aad",
   "metadata": {},
   "outputs": [],
   "source": []
  }
 ],
 "metadata": {
  "kernelspec": {
   "display_name": "Python 3 (ipykernel)",
   "language": "python",
   "name": "python3"
  },
  "language_info": {
   "codemirror_mode": {
    "name": "ipython",
    "version": 3
   },
   "file_extension": ".py",
   "mimetype": "text/x-python",
   "name": "python",
   "nbconvert_exporter": "python",
   "pygments_lexer": "ipython3",
   "version": "3.12.2"
  }
 },
 "nbformat": 4,
 "nbformat_minor": 5
}
